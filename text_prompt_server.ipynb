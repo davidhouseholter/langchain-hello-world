{
 "cells": [
  {
   "cell_type": "code",
   "execution_count": 17,
   "metadata": {},
   "outputs": [],
   "source": [
    "!python -m grpc_tools.protoc -I. --python_out=. --grpclib_python_out=.  proto/seq2seq.proto\n"
   ]
  },
  {
   "cell_type": "code",
   "execution_count": 3,
   "metadata": {},
   "outputs": [
    {
     "name": "stdout",
     "output_type": "stream",
     "text": [
      "Serving on 127.0.0.1:50050\n",
      "teste\n",
      "\n",
      "\n",
      "\n",
      "\n",
      "1\n",
      ")\n",
      " Tests\n",
      " R\n",
      " Us\n",
      " \n",
      "\n",
      "\n",
      "2\n",
      ")\n",
      " Exam\n",
      "pl\n",
      "ar\n",
      " \n",
      "\n",
      "\n",
      "3\n",
      ")\n",
      " Test\n",
      "ify\n",
      " \n",
      "\n",
      "\n",
      "4\n",
      ")\n",
      " Prof\n",
      "iciency\n",
      " Labs\n",
      "\n",
      "\n",
      "5\n",
      ")\n",
      " Test\n",
      "Drive\n",
      "\n",
      "\n",
      "\n",
      "1) Tests R Us \n",
      "2) Examplar \n",
      "3) Testify \n",
      "4) Proficiency Labs\n",
      "5) TestDrive\n",
      "^C\n"
     ]
    }
   ],
   "source": [
    "!python server.py"
   ]
  }
 ],
 "metadata": {
  "kernelspec": {
   "display_name": "Python 3",
   "language": "python",
   "name": "python3"
  },
  "language_info": {
   "codemirror_mode": {
    "name": "ipython",
    "version": 3
   },
   "file_extension": ".py",
   "mimetype": "text/x-python",
   "name": "python",
   "nbconvert_exporter": "python",
   "pygments_lexer": "ipython3",
   "version": "3.10.6"
  },
  "orig_nbformat": 4
 },
 "nbformat": 4,
 "nbformat_minor": 2
}
